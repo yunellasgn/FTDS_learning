{
  "nbformat": 4,
  "nbformat_minor": 0,
  "metadata": {
    "colab": {
      "provenance": []
    },
    "kernelspec": {
      "name": "python3",
      "display_name": "Python 3"
    },
    "language_info": {
      "name": "python"
    }
  },
  "cells": [
    {
      "cell_type": "markdown",
      "source": [
        "# Basic Python"
      ],
      "metadata": {
        "id": "W34mRZaNjxnR"
      }
    },
    {
      "cell_type": "markdown",
      "source": [
        "## print"
      ],
      "metadata": {
        "id": "aQIs7XyPM5_j"
      }
    },
    {
      "cell_type": "markdown",
      "source": [
        "`print` adalah perintah untuk mencetak string dengan python."
      ],
      "metadata": {
        "id": "TqxV5Ls2NL0J"
      }
    },
    {
      "cell_type": "markdown",
      "source": [
        "## type data"
      ],
      "metadata": {
        "id": "fslvHCYdM-pA"
      }
    },
    {
      "cell_type": "markdown",
      "source": [
        "Jenis **tipe data** :\n",
        "1. numerikal (int, float, dll)\n",
        "2. string/text\n",
        "- list\n",
        "- **tuple**\n",
        "- *set*\n",
        "\n",
        "[link repo](https://github.com/H8-Assignments-Bay/latihan_git-yunellasgn)"
      ],
      "metadata": {
        "id": "_WtOeFkkN0lR"
      }
    },
    {
      "cell_type": "markdown",
      "source": [],
      "metadata": {
        "id": "KHnT2FvQmxYK"
      }
    },
    {
      "cell_type": "code",
      "source": [
        "print ('yunella amelia')"
      ],
      "metadata": {
        "colab": {
          "base_uri": "https://localhost:8080/"
        },
        "id": "q811sIpNPFrv",
        "outputId": "4fe6fe41-dd07-4779-c922-e16b2882a438"
      },
      "execution_count": 1,
      "outputs": [
        {
          "output_type": "stream",
          "name": "stdout",
          "text": [
            "yunella amelia\n"
          ]
        }
      ]
    },
    {
      "cell_type": "code",
      "source": [],
      "metadata": {
        "id": "8dxE7HNfM9uB"
      },
      "execution_count": null,
      "outputs": []
    }
  ]
}