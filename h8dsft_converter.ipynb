{
 "cells": [
  {
   "cell_type": "markdown",
   "metadata": {},
   "source": [
    "# Konversi suhu Kelvin-Celsius dan Celsius-Kelvin"
   ]
  },
  {
   "cell_type": "markdown",
   "metadata": {},
   "source": [
    "Masukkan suhu untuk Kelvin dan Celsius ke dalam function `kelvin_celsius`"
   ]
  },
  {
   "cell_type": "code",
   "execution_count": 82,
   "metadata": {},
   "outputs": [],
   "source": [
    "def kelvin_celsius(k,c):\n",
    "    \"Function untuk mengkonversi suhu dari Kelvin ke Celsius\"\n",
    "    print(k, \"derajat Kelvin     =\", k-273.15, \"derajat Celsius\")\n",
    "    print(c, \"derajat Celsius    =\", c+273.15, \"derajat Kelvin\")\n"
   ]
  },
  {
   "cell_type": "code",
   "execution_count": 83,
   "metadata": {},
   "outputs": [
    {
     "name": "stdout",
     "output_type": "stream",
     "text": [
      "0 derajat Kelvin     = -273.15 derajat Celsius\n",
      "0 derajat Celsius    = 273.15 derajat Kelvin\n"
     ]
    }
   ],
   "source": [
    "kelvin_celsius(0,0)"
   ]
  },
  {
   "cell_type": "markdown",
   "metadata": {},
   "source": [
    "# Konversi Suhu Ke Faranheit"
   ]
  },
  {
   "cell_type": "markdown",
   "metadata": {},
   "source": [
    "### Konversi Kelvin dan Celsius -----> Faranheit"
   ]
  },
  {
   "cell_type": "markdown",
   "metadata": {},
   "source": [
    "Masukkan suhu untuk Kelvin dan Celsius ke dalam function `func_KC_faranheit`"
   ]
  },
  {
   "cell_type": "code",
   "execution_count": 68,
   "metadata": {},
   "outputs": [],
   "source": [
    "def func_KC_faranheit(k,c):\n",
    "    \"Function untuk mengkonversi suhu dari Kelvin dan Celsius ke Faranheit\"\n",
    "    result_f_k = 1.8*(k-273)+32\n",
    "    print(k, \"derajat Kelvin =\", result_f_k, \"derajat Faranheit\")\n",
    "    result_c_k = 9/5*c+32\n",
    "    print(c, \"derajat Celsius =\", result_c_k, \"derajat Faranheit\")"
   ]
  },
  {
   "cell_type": "code",
   "execution_count": 69,
   "metadata": {},
   "outputs": [
    {
     "name": "stdout",
     "output_type": "stream",
     "text": [
      "273 derajat Kelvin = 32.0 derajat Faranheit\n",
      "10 derajat Celsius = 50.0 derajat Faranheit\n"
     ]
    }
   ],
   "source": [
    "func_KC_faranheit(273,10)"
   ]
  },
  {
   "cell_type": "markdown",
   "metadata": {},
   "source": [
    "# Konversi dari Faranheit"
   ]
  },
  {
   "cell_type": "markdown",
   "metadata": {},
   "source": [
    "Konversi dari faranheit --------> Celsius dan Kelvin"
   ]
  },
  {
   "cell_type": "markdown",
   "metadata": {},
   "source": [
    "Masukkan suhu faranheit ke function `func_faranheit`"
   ]
  },
  {
   "cell_type": "code",
   "execution_count": 77,
   "metadata": {},
   "outputs": [],
   "source": [
    "def func_faranheit(f):\n",
    "    \"Function untuk mengkonversi suhu dari Faranheit ke Kelvin dan Celsius\"\n",
    "\n",
    "    result_fc = 5/9*(f-32)\n",
    "    print(f, \"derajat Faranheit =\", result_fc, \"derajat Celsius = \", result_fc+273, \"derajat Kelvin\")"
   ]
  },
  {
   "cell_type": "code",
   "execution_count": 84,
   "metadata": {},
   "outputs": [
    {
     "name": "stdout",
     "output_type": "stream",
     "text": [
      "32 derajat Faranheit = 0.0 derajat Celsius =  273.0 derajat Kelvin\n"
     ]
    }
   ],
   "source": [
    "func_faranheit(32)"
   ]
  }
 ],
 "metadata": {
  "kernelspec": {
   "display_name": "Python 3.11.0 64-bit",
   "language": "python",
   "name": "python3"
  },
  "language_info": {
   "codemirror_mode": {
    "name": "ipython",
    "version": 3
   },
   "file_extension": ".py",
   "mimetype": "text/x-python",
   "name": "python",
   "nbconvert_exporter": "python",
   "pygments_lexer": "ipython3",
   "version": "3.11.0"
  },
  "orig_nbformat": 4,
  "vscode": {
   "interpreter": {
    "hash": "1f6a27bcfbe46a917dbd192f4a82657396dda26148bae633192e8d28c70725f1"
   }
  }
 },
 "nbformat": 4,
 "nbformat_minor": 2
}
